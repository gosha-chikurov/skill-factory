{
 "cells": [
  {
   "cell_type": "code",
   "execution_count": 1,
   "metadata": {},
   "outputs": [
    {
     "name": "stdout",
     "output_type": "stream",
     "text": [
      "Ваш алгоритм угадывает число в среднем за 5 попыток\n"
     ]
    },
    {
     "data": {
      "text/plain": [
       "5"
      ]
     },
     "execution_count": 1,
     "metadata": {},
     "output_type": "execute_result"
    }
   ],
   "source": [
    "import random\n",
    "import numpy as np\n",
    "def game_core_v3(number):\n",
    "    '''для оперделения искомого числа воспользуемся методом бинарного поиска'''\n",
    "    item_list = [i for i in range (1, 101)] #Создаем список чисел от 1 до 100 \n",
    "    first = item_list[0] #первое число в списке\n",
    "    last = item_list[-1] #последнее число в списке\n",
    "    count = 0 #счетчик попыток поиска\n",
    "    while first<=last: # проводим поиск пока первое и последнее число в списке не совпадут\n",
    "        count+=1\n",
    "        middle = (last+first)//2 # находим срединное число в списке\n",
    "        if middle > number: \n",
    "            last = middle-1 # если искомое число меньше среднего определяем среднее как последнее в списке\n",
    "        elif middle < number: \n",
    "            first = middle+1 # если искомое число больше среднего определяем среднее как первое в списке\n",
    "        else:\n",
    "            break # выход из цикла, если угадали\n",
    "    return(count) \n",
    "\n",
    "def score_game(game_core):\n",
    "    '''Запускаем игру 1000 раз, чтобы узнать, как быстро игра угадывает число'''\n",
    "    count_ls = []\n",
    "    np.random.seed(1)  # фиксируем RANDOM SEED, чтобы ваш эксперимент был воспроизводим!\n",
    "    random_array = np.random.randint(1,101, size=(1000))\n",
    "    for number in random_array:\n",
    "        count_ls.append(game_core(number))\n",
    "    score = int(np.mean(count_ls))\n",
    "    print(f\"Ваш алгоритм угадывает число в среднем за {score} попыток\")\n",
    "    return(score)\n",
    "score_game(game_core_v3)"
   ]
  },
  {
   "cell_type": "code",
   "execution_count": null,
   "metadata": {},
   "outputs": [],
   "source": []
  }
 ],
 "metadata": {
  "kernelspec": {
   "display_name": "Python 3",
   "language": "python",
   "name": "python3"
  },
  "language_info": {
   "codemirror_mode": {
    "name": "ipython",
    "version": 3
   },
   "file_extension": ".py",
   "mimetype": "text/x-python",
   "name": "python",
   "nbconvert_exporter": "python",
   "pygments_lexer": "ipython3",
   "version": "3.7.6"
  }
 },
 "nbformat": 4,
 "nbformat_minor": 4
}
